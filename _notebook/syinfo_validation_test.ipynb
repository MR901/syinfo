{
 "cells": [
  {
   "cell_type": "markdown",
   "id": "15af3311",
   "metadata": {},
   "source": [
    "# SyInfo Validation Test Notebook\n",
    "\n",
    "This notebook contains test code to validate the public methods and functionality of the SyInfo system information and monitoring tool."
   ]
  },
  {
   "cell_type": "code",
   "execution_count": null,
   "id": "3fc816da",
   "metadata": {},
   "outputs": [],
   "source": [
    "# Setup and Imports\n",
    "import sys\n",
    "from pathlib import Path\n",
    "\n",
    "# Add project root to sys.path\n",
    "project_root = str(Path('..').resolve())\n",
    "if project_root not in sys.path:\n",
    "    sys.path.insert(0, project_root)\n",
    "\n",
    "# Example import (adjust as needed)\n",
    "import syinfo\n",
    "print(\"SyInfo modules imported successfully.\")"
   ]
  }
 ],
 "metadata": {},
 "nbformat": 4,
 "nbformat_minor": 5
}
